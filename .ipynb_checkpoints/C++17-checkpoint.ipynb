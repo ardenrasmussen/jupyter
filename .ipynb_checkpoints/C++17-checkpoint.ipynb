{
 "cells": [
  {
   "cell_type": "code",
   "execution_count": 4,
   "metadata": {},
   "outputs": [],
   "source": [
    "#include <stdio.h>\n",
    "#include <stdlib.h>\n",
    "#include <math.h>"
   ]
  },
  {
   "cell_type": "code",
   "execution_count": 5,
   "metadata": {},
   "outputs": [
    {
     "data": {
      "text/plain": [
       "233168"
      ]
     },
     "execution_count": 5,
     "metadata": {},
     "output_type": "execute_result"
    }
   ],
   "source": [
    "int SumDivisible(int n, int max)\n",
    "{\n",
    "  int p = max / n;\n",
    "  return n * (p * (p + 1)) / 2;\n",
    "}\n",
    "int max = 999;\n",
    "int sum = SumDivisible(3, max) + SumDivisible(5, max) - SumDivisible(15, max);\n",
    "sum"
   ]
  },
  {
   "cell_type": "code",
   "execution_count": 6,
   "metadata": {},
   "outputs": [
    {
     "data": {
      "text/plain": [
       "4613732"
      ]
     },
     "execution_count": 6,
     "metadata": {},
     "output_type": "execute_result"
    }
   ],
   "source": [
    "int limit = 4000000;\n",
    "sum = 0;\n",
    "int a = 1;\n",
    "int b = 1;\n",
    "int c = 2;\n",
    "while (c < limit) {\n",
    "    sum += c;\n",
    "    a = b + c;\n",
    "    b = c + a;\n",
    "    c = a + b;\n",
    "}\n",
    "sum"
   ]
  },
  {
   "cell_type": "code",
   "execution_count": 7,
   "metadata": {},
   "outputs": [
    {
     "data": {
      "text/plain": [
       "6857"
      ]
     },
     "execution_count": 7,
     "metadata": {},
     "output_type": "execute_result"
    }
   ],
   "source": [
    "unsigned long int n = 600851475143;\n",
    "unsigned long int last_factor = 1;\n",
    "if (n % 2 == 0) {\n",
    "    last_factor = 2;\n",
    "    n /= 2;\n",
    "    while (n % 2 == 0) {\n",
    "      n /= 2;\n",
    "    }\n",
    "}\n",
    "unsigned long int factor = 3;\n",
    "unsigned long int max_factor = sqrt(n);\n",
    "while (n > 1 && factor <= max_factor) {\n",
    "    if (n % factor == 0) {\n",
    "      n /= factor;\n",
    "      last_factor = factor;\n",
    "      while (n % factor == 0) {\n",
    "        n /= factor;\n",
    "      }\n",
    "      max_factor = sqrt(n);\n",
    "    }\n",
    "    factor += 2;\n",
    "}\n",
    "if (n != 1) {\n",
    "    last_factor = n;\n",
    "}\n",
    "last_factor"
   ]
  },
  {
   "cell_type": "code",
   "execution_count": 11,
   "metadata": {},
   "outputs": [
    {
     "name": "stderr",
     "output_type": "stream",
     "text": [
      "\u001b[1minput_line_22:11:26: \u001b[0m\u001b[0;1;31merror: \u001b[0m\u001b[1mfunction definition is not allowed here\u001b[0m\n",
      " int IsPalindrome(int n) {\n",
      "\u001b[0;1;32m                         ^\n",
      "\u001b[0m\u001b[1minput_line_22:36:18: \u001b[0m\u001b[0;1;31merror: \u001b[0m\u001b[1muse of undeclared identifier 'IsPalindrome'\u001b[0m\n",
      "      } else if (IsPalindrome(a * b)) {\n",
      "\u001b[0;1;32m                 ^\n",
      "\u001b[0m"
     ]
    },
    {
     "ename": "Interpreter Error",
     "evalue": "",
     "output_type": "error",
     "traceback": [
      "Interpreter Error: "
     ]
    }
   ],
   "source": [
    "int ReverseInteger(int val)\n",
    "{\n",
    "  int reversed = 0;\n",
    "  while (val > 0) {\n",
    "    reversed = (10 * reversed) + (val % 10);\n",
    "    val = val / 10;\n",
    "  }\n",
    "  return reversed;\n",
    "}\n",
    "\n",
    "int IsPalindrome(int n)\n",
    "{\n",
    "  return n == ReverseInteger(n);\n",
    "}\n",
    "\n",
    "int count = 3;\n",
    "int tmp = count;\n",
    "max = 0;\n",
    "while (tmp > 0) {\n",
    "    max = (max * 10) + 9;\n",
    "    tmp--;\n",
    "}\n",
    "a = max;\n",
    "int largest = 0;\n",
    "while (a >= (10 * count)) {\n",
    "    int b = 0;\n",
    "    int db = 0;\n",
    "    if (a % 11 == 0) {\n",
    "      b = max;\n",
    "      db = 1;\n",
    "    } else {\n",
    "      b = 11 * (max / 11);\n",
    "      db = 11;\n",
    "    }\n",
    "    while (b >= a) {\n",
    "      if (a * b <= largest) {\n",
    "        break;\n",
    "      } else if (IsPalindrome(a * b)) {\n",
    "        largest = a * b;\n",
    "      }\n",
    "      b -= db;\n",
    "    }\n",
    "    a--;\n",
    "}\n",
    "largest;\n"
   ]
  },
  {
   "cell_type": "code",
   "execution_count": null,
   "metadata": {},
   "outputs": [],
   "source": []
  }
 ],
 "metadata": {
  "kernelspec": {
   "display_name": "C++17",
   "language": "C++17",
   "name": "xeus-cling-cpp17"
  },
  "language_info": {
   "codemirror_mode": "text/x-c++src",
   "file_extension": ".cpp",
   "mimetype": "text/x-c++src",
   "name": "c++",
   "version": "-std=c++17"
  }
 },
 "nbformat": 4,
 "nbformat_minor": 2
}
