{
 "cells": [
  {
   "cell_type": "markdown",
   "metadata": {},
   "source": [
    "# Introduction\n",
    "\n",
    "This chapter will provide you with a brief introduction to Jupyter notebooks. Jupyter notebooks is the interface that you are currently using to read this. These notebooks allow you to run the code interactivly online, and add comments to the different parts of the code."
   ]
  },
  {
   "cell_type": "markdown",
   "metadata": {},
   "source": [
    "## Cells\n",
    "\n",
    "Every thing in the notebook is split into different cells. Each cell can either be a code cell or a markdown cell. We will diccuss markdown in a later chapter of this introduction.\n",
    "\n",
    "Each cell is can be evaluated/run individually. To run a cell, simply select the cell and type `SHIFT+ENTER`. This will run the cell, and the code within it. Any of the output/input from a cell is shown below.\n",
    "\n",
    "In the toolbar above, there is also an option to run all cells. This can be useful when first loading a notebook."
   ]
  },
  {
   "cell_type": "markdown",
   "metadata": {},
   "source": [
    "### Code Cells\n",
    "\n",
    "By default a cell will be a code cell, but you can check by looking at the dropdown menu at the top of the page. It will say either `code`, or `markdown`. The code cells will interact as if they are all part of the same program.\n",
    "\n",
    "This is demonstrated below. Here we import a package and name it `np`. Then in the next cell we use that package. Don't worry if you don't understand the python code yet. This will be explained in the next section."
   ]
  },
  {
   "cell_type": "code",
   "execution_count": 1,
   "metadata": {},
   "outputs": [],
   "source": [
    "import numpy as np"
   ]
  },
  {
   "cell_type": "code",
   "execution_count": 2,
   "metadata": {},
   "outputs": [
    {
     "data": {
      "text/plain": [
       "0.7191188204829438"
      ]
     },
     "execution_count": 2,
     "metadata": {},
     "output_type": "execute_result"
    }
   ],
   "source": [
    "np.random.rand()"
   ]
  },
  {
   "cell_type": "markdown",
   "metadata": {},
   "source": [
    "## Kernel\n",
    "\n",
    "The kernel is the system that is executing the code. Jupyter notebooks have many different available kernels, but you will only be using the `Python3` kernel in this course. There are some cases, when it is necessary to restart the program this option is available in the toolbar above. **Note** this should be avoided, and should not be the goto method for solving issues."
   ]
  },
  {
   "cell_type": "code",
   "execution_count": null,
   "metadata": {},
   "outputs": [],
   "source": []
  }
 ],
 "metadata": {
  "kernelspec": {
   "display_name": "Python 3",
   "language": "python",
   "name": "python3"
  },
  "language_info": {
   "codemirror_mode": {
    "name": "ipython",
    "version": 3
   },
   "file_extension": ".py",
   "mimetype": "text/x-python",
   "name": "python",
   "nbconvert_exporter": "python",
   "pygments_lexer": "ipython3",
   "version": "3.6.5"
  },
  "latex_envs": {
   "LaTeX_envs_menu_present": true,
   "autoclose": true,
   "autocomplete": true,
   "bibliofile": "biblio.bib",
   "cite_by": "apalike",
   "current_citInitial": 1,
   "eqLabelWithNumbers": true,
   "eqNumInitial": 1,
   "hotkeys": {
    "equation": "Ctrl-E",
    "itemize": "Ctrl-I"
   },
   "labels_anchors": false,
   "latex_user_defs": false,
   "report_style_numbering": false,
   "user_envs_cfg": false
  }
 },
 "nbformat": 4,
 "nbformat_minor": 2
}
