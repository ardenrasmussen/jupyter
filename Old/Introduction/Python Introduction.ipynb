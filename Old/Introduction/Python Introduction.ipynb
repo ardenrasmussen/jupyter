{
 "cells": [
  {
   "cell_type": "markdown",
   "metadata": {},
   "source": [
    "# Introduction\n",
    "\n",
    "This introduction provides a basic overview of the python programming language, and how to use it with Jupyter notebooks.\n",
    "\n",
    "Below every section is a cell, use that cell to try that concept, and play with what you have learned."
   ]
  },
  {
   "cell_type": "markdown",
   "metadata": {},
   "source": [
    "# Hello, World!\n",
    "\n",
    "Python is a very simple language, and has a very straightforward syntax. it encourages programmer to program without prepared code. One of the simplest directive is the \"print\" directive. It simply prints out a line.\n",
    "\n",
    "To print a string in Python, just write\n",
    "\n",
    "```python\n",
    "print(\"Hello, World!\")\n",
    "```\n",
    "\n",
    "The print statement will handle any number of variable that you give it of any type. For example:\n",
    "```python\n",
    "pi = 3.1415\n",
    "print(\"pi =\", pi)\n",
    "```"
   ]
  },
  {
   "cell_type": "code",
   "execution_count": null,
   "metadata": {},
   "outputs": [],
   "source": []
  },
  {
   "cell_type": "markdown",
   "metadata": {},
   "source": [
    "## Indentation\n",
    "\n",
    "Python uses indentation for blocks, instead of curly braces. The standard is to use four spaces. For example:\n",
    "```python\n",
    "x = 1\n",
    "if x == 1:\n",
    "    # indented four spaces\n",
    "    print(\"x is 1.\")\n",
    "```"
   ]
  },
  {
   "cell_type": "code",
   "execution_count": null,
   "metadata": {},
   "outputs": [],
   "source": []
  },
  {
   "cell_type": "markdown",
   "metadata": {},
   "source": [
    "# Variables and Types\n",
    "\n",
    "Python is completely object oriented, and not \"statically typed\". You do not need to declare variables before using them, or declare their type.\n",
    "\n",
    "## Numbers\n",
    "\n",
    "Python supports integer, floating point numbers, and complex numbers. To declare an integer use the following syntax:\n",
    "```python\n",
    "integer = 7\n",
    "```\n",
    "To define a floating point you can use any of the following:\n",
    "```python\n",
    "floating = 7.0\n",
    "floating = float(7)\n",
    "```"
   ]
  },
  {
   "cell_type": "code",
   "execution_count": null,
   "metadata": {},
   "outputs": [],
   "source": []
  },
  {
   "cell_type": "markdown",
   "metadata": {},
   "source": [
    "## Strings\n",
    "\n",
    "Strings are defined either using single or double quotes.\n",
    "```python\n",
    "string = 'hello'\n",
    "string = \"hello\"\n",
    "```"
   ]
  },
  {
   "cell_type": "code",
   "execution_count": null,
   "metadata": {},
   "outputs": [],
   "source": []
  },
  {
   "cell_type": "markdown",
   "metadata": {},
   "source": [
    "Simple operators can be executed on numbers and strings:\n",
    "```python\n",
    "a = 4 + 7\n",
    "hello_world = \"hello\" + ', ' + \"world\"\n",
    "```"
   ]
  },
  {
   "cell_type": "code",
   "execution_count": null,
   "metadata": {},
   "outputs": [],
   "source": []
  },
  {
   "cell_type": "markdown",
   "metadata": {},
   "source": [
    "# Lists\n",
    "\n",
    "Lists are similar to arrays (~ vectors) They can contain any type of variable, and they can contain as many of that type as you want. It is also very easy to iterate over a list. Here is a simple example\n",
    "```python\n",
    "my_list = [1,2]\n",
    "my_list.append(3)\n",
    "my_list.append(4)\n",
    "print(my_list[2]) # prints 3\n",
    "\n",
    "for x in my_list:\n",
    "    print(x)\n",
    "```"
   ]
  },
  {
   "cell_type": "code",
   "execution_count": null,
   "metadata": {},
   "outputs": [],
   "source": []
  },
  {
   "cell_type": "markdown",
   "metadata": {},
   "source": [
    "# Basic Operators\n",
    "\n",
    "## Arithmetic Operators\n",
    "\n",
    "Most basic operators that you will need to use can be used in python. Python will use the order of operations. There are more operators beyond the basic operators that python makes available to you.\n",
    "\n",
    "One is the modulo (``%``) operator, which returns the integer remainder of the division.\n",
    "```python\n",
    "remainder = 11 % 3\n",
    "# remainder is 2\n",
    "```\n",
    "\n",
    "using two multiplication symbols (``**``) makes a power function.\n",
    "```python\n",
    "squared = 7 ** 2\n",
    "```\n",
    "\n",
    "**Note** both of these operators only work on integer numbers, for floating point numbers, there are dedicated functions.\n",
    "\n",
    "## Using Operators with Strings\n",
    "\n",
    "As mentioned eariler, strings can be concatenated using the addition operator.\n",
    "```python\n",
    "hello_world = \"hello\" + \", \" + \"world\"\n",
    "```\n",
    "\n",
    "Multiplying a string can also be used to construct a repeating sequence.\n",
    "```python\n",
    "repeating = \"hello\" * 3\n",
    "# repeating = \"hellohellohello\"\n",
    "```\n",
    "\n",
    "## Using Operators with Strings\n",
    "\n",
    "Lists can also be joined and repeated just like strings can be.\n",
    "```python\n",
    "evens = [2,4,6,8]\n",
    "odds = [1,3,5,7]\n",
    "nums = odds + evens\n",
    "# nums = [1,3,5,7,2,4,6,8]\n",
    "repeating = [1,2,3]*3\n",
    "# repeating = [1,2,3,1,2,3,1,2,3]\n",
    "```"
   ]
  },
  {
   "cell_type": "code",
   "execution_count": null,
   "metadata": {},
   "outputs": [],
   "source": []
  },
  {
   "cell_type": "markdown",
   "metadata": {},
   "source": [
    "# String Formatting\n",
    "\n",
    "Python uses a string formatting system that makes use curly brace notation (There is an older method using ``%``, but we will prefer for the newer format function). This can be used like so:\n",
    "```python\n",
    "print(\"The name is = {}\".format(\"John\"))\n",
    "```\n",
    "There is a lot more power behind the formatting syntax, and allows users to format the string exactly as they want."
   ]
  },
  {
   "cell_type": "code",
   "execution_count": null,
   "metadata": {},
   "outputs": [],
   "source": []
  },
  {
   "cell_type": "markdown",
   "metadata": {},
   "source": [
    "# String/List Operations\n",
    "\n",
    "Strings and lists have many of the same operations, as strings can just be though of as a list of characters.\n",
    "\n",
    "One operation is ``len``, this provides the length of the list, or the number of elements in it.\n",
    "```python\n",
    "x = len(\"Hello, World!\")\n",
    "# x = 13\n",
    "```\n",
    "\n",
    "The index operator finds the index of the first occurance of a value.\n",
    "```python\n",
    "x = [1,2,3,4,5,6,7,8,9].index(5)\n",
    "# x = 6\n",
    "```\n",
    "\n",
    "The count operator counts the occurances of a value in a list.\n",
    "```python\n",
    "n = \"Hello, World!\".count('l')\n",
    "# n = 3\n",
    "```\n",
    "\n",
    "Slicing is a very powerful list operator. It allows for taking a slice of a list. The syntax of the operator is ``LIST[START:END:STEP]``. Where ``START`` is the starting index of the slice, ``END`` is the ending index of the slice, and ``STEP`` is the step size of the slice. The step provides a way to skip characters, if one used step size of ``2`` then it would skip every other character. If any part is left blank then it is presumed, ``START`` will default to ``0``, ``END`` will default to ``len(LIST)``, and ``STEP`` will default to ``1``. Note that negative values can also be used. When a negative number is used it just means that it begins from the end, so ``-3`` is the third from the end.\n",
    "```python\n",
    "nums = [1,2,3,4,5,6,7,8,9,0]\n",
    "print(nums[2:5:2]) # [3,5]\n",
    "print(nums[:3]) # [1,2,3]\n",
    "print(nums[7:]) # [8,9,0]\n",
    "print(nums[::-1]) # [0,9,8,7,6,5,4,3,2,1]\n",
    "```"
   ]
  },
  {
   "cell_type": "code",
   "execution_count": null,
   "metadata": {},
   "outputs": [],
   "source": []
  },
  {
   "cell_type": "markdown",
   "metadata": {},
   "source": [
    "# Conditions\n",
    "\n",
    "Python uses ``True`` and ``False`` to evaluate conditions. Comparisions are done using the double equals operator (``==``). The not equal operator is ``!=``.\n",
    "\n",
    "## Boolean Operators\n",
    "\n",
    "The ``and`` and ``or`` are boolean operators, that allow for making complex expressions. For example:\n",
    "```python\n",
    "name = \"John\"\n",
    "age = 21\n",
    "if name == \"John\" and age == 21:\n",
    "    pass\n",
    "```\n",
    "\n",
    "## The \"in\" operator\n",
    "\n",
    "The ``in`` operator can be used to check is something is in a list or string.\n",
    "```python\n",
    "evens = [2,4,6,8]\n",
    "if 7 in evens:\n",
    "    print(\"This is wrong\")\n",
    "else if 8 in evens:\n",
    "    print(\"8 is even\")\n",
    "```\n",
    "\n",
    "## The \"not\" operator\n",
    "\n",
    "The ``not`` operator inverts the boolean expression. Consider some expression ``exp``. If ``exp`` is ``True``, then ``not exp`` is ``False``."
   ]
  },
  {
   "cell_type": "code",
   "execution_count": null,
   "metadata": {},
   "outputs": [],
   "source": []
  },
  {
   "cell_type": "markdown",
   "metadata": {},
   "source": [
    "# Loops\n",
    "\n",
    "There are two main looping methods in python, ``for`` and ``while``.\n",
    "\n",
    "## For loops\n",
    "\n",
    "For loops iterate over a sequence. A sequence can be a range, a list, a string, or many other objects. To make a range we use the ``range()`` function. The syntax is\n",
    "```python\n",
    "range(START, STOP, STEP)\n",
    "```\n",
    "Notice that it is very similar to the splicing syntax. Here are some examples of using ``for`` loops.\n",
    "```python\n",
    "# Prints 2,4,5,7\n",
    "for x in [2,4,5,7]:\n",
    "    print(x)\n",
    "    \n",
    "# Prints 3,5,7\n",
    "for x in range(3,8,2):\n",
    "    print(x)\n",
    "```"
   ]
  },
  {
   "cell_type": "code",
   "execution_count": null,
   "metadata": {},
   "outputs": [],
   "source": []
  },
  {
   "cell_type": "markdown",
   "metadata": {},
   "source": [
    "## While loops\n",
    "\n",
    "While loops repeat as long as a certain condition is met. For example:\n",
    "```python\n",
    "# Prints 0,1,2,3,4\n",
    "count = 0\n",
    "while count < 5:\n",
    "    print(count)\n",
    "```"
   ]
  },
  {
   "cell_type": "code",
   "execution_count": null,
   "metadata": {},
   "outputs": [],
   "source": []
  },
  {
   "cell_type": "markdown",
   "metadata": {},
   "source": [
    "## \"break\" and \"continue\" statements\n",
    "\n",
    "``break`` is used to exit a loop, and ``continue`` is used to skip the current iteration, but continue the loop."
   ]
  },
  {
   "cell_type": "code",
   "execution_count": null,
   "metadata": {},
   "outputs": [],
   "source": []
  },
  {
   "cell_type": "markdown",
   "metadata": {},
   "source": [
    "# Functions\n",
    "\n",
    "Functions are a convenient way to divide code into blocks. It lets you use the same block of code multiple times. To define a function just use the following syntax\n",
    "```python\n",
    "def my_function(first_arg, second_arg):\n",
    "    print(\"There were two args {}, {}\".format(first_arg, second_arg))\n",
    "```\n",
    "\n",
    "Any python code will work within the function block. Functions can also return values by using the ``return`` statement.\n",
    "```python\n",
    "def add(a, b):\n",
    "    return a + b\n",
    "```\n",
    "\n",
    "Calling a python function is also very simple. Just wright the function name followed by ``()``. Here are some examples.\n",
    "```python\n",
    "my_function(\"John\", 3.1415)\n",
    "x = add(4,5) # x=9\n",
    "```"
   ]
  },
  {
   "cell_type": "code",
   "execution_count": null,
   "metadata": {},
   "outputs": [],
   "source": []
  }
 ],
 "metadata": {
  "kernelspec": {
   "display_name": "Python 3",
   "language": "python",
   "name": "python3"
  },
  "language_info": {
   "codemirror_mode": {
    "name": "ipython",
    "version": 3
   },
   "file_extension": ".py",
   "mimetype": "text/x-python",
   "name": "python",
   "nbconvert_exporter": "python",
   "pygments_lexer": "ipython3",
   "version": "3.6.5"
  }
 },
 "nbformat": 4,
 "nbformat_minor": 2
}
