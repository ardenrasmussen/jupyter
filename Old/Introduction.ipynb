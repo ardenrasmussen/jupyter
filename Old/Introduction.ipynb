{
 "cells": [
  {
   "cell_type": "markdown",
   "metadata": {},
   "source": [
    "This is an introduction to Jupyter Notebooks. This introduction will be focused on using the Jupyter notebooks with Python.\n",
    "\n",
    "# The Notebook\n",
    "\n",
    "Jupyter is basically an advanced word processor. There are two main terms that need to be known: _cells_ and _kernels_. These are the two key things that make Jupyter so powerful.\n",
    "\n",
    "* A kernel is the computation system that executes the code that is withing the document.\n",
    "* A cell is a container for text to be displayed, or code to be executed by the kernel.\n",
    "\n",
    "# Cells\n",
    "We'll start with cells, and return to kernels later. Cells are the body of the notebook. There are two main types of cells:\n",
    "\n",
    "* A **code cell** contains code that will be executed by the kernel and displays its output below the cell.\n",
    "* A **Markdown cell** contains text formatted using the Markdown formatting style, and displays its output in-place. This is written in markdown.\n",
    "\n",
    "The first cell in a document is a code cell. Below is also a code cell. Try typing ``print('Hello, World!'))`` into it and running the cell. You can run the cell by either clicking the run button in the toolbar or by pressing ``SHIFT+Enter``. "
   ]
  },
  {
   "cell_type": "code",
   "execution_count": null,
   "metadata": {},
   "outputs": [],
   "source": []
  },
  {
   "cell_type": "markdown",
   "metadata": {},
   "source": [
    "When you ran the cell, its output was displayed below the cell, and the label to the right was changed from ``In [ ]`` to ``In [1]``. The output is a part of the document, so you can see it here. The label on the left just denotes when the cell was executed, running the cell again will increment the number.\n",
    "\n",
    "Now try typing\n",
    "```python\n",
    "import time\n",
    "time.sleep(3)\n",
    "```\n",
    "into the cell below."
   ]
  },
  {
   "cell_type": "code",
   "execution_count": null,
   "metadata": {},
   "outputs": [],
   "source": []
  },
  {
   "cell_type": "markdown",
   "metadata": {},
   "source": [
    "Notice how the cell dosen't produce any output, but while it is running the label is changed to ``In [*]``.\n",
    "\n",
    "The output of a cell is usually only dependent on the data specifically printed during the cells execution, or any warning and error messages that are found during the execution."
   ]
  },
  {
   "cell_type": "markdown",
   "metadata": {},
   "source": [
    "# Python\n",
    "\n",
    "This is a brief introduction to the **Python** programming language. Python is the programming language that will be used during this course, and is the primary language of Jupyter notebooks.\n",
    "\n",
    "## Introduction\n",
    "\n",
    "Python is a general-purpose and high-level programming language. It is very easy to learn, and easy to read. Python has many tools that have been made for it that allow for more advanced usage without much difficulty.\n",
    "\n",
    "## Basic Syntax\n",
    "\n",
    "### Lines and Indentation\n",
    "\n",
    "Python does not use the braces that other languages use to indicate blocks of code, instead the indentation of the code plays the role of this. For example:\n",
    "```python\n",
    "if True:\n",
    "    print(\"True\")\n",
    "else:\n",
    "    print(\"False\")\n",
    "```\n",
    "\n",
    "### Quotation\n",
    "\n",
    "Python accepts single (``'``), double (``\"``) and triple(``\"\"\"``) to denote strings. Triple quotes denote multi-line strings. For example:\n",
    "```python\n",
    "word = 'word'\n",
    "sentence = \"This is a sentence.\"\n",
    "paragraph = \"\"\"This is a paragraph. It is\n",
    "made up of multiple lines and sentences.\"\"\"\n",
    "```\n",
    "\n",
    "### Comments\n",
    "\n",
    "Comments are parts of the code that will not be executed. In python comments are denoted by a hash sign (``#``) any code that comes after a hash sign will be ignored.\n",
    "```python\n",
    "# This is a comment\n",
    "print(\"Hello, World!\") # This is a second comment\n",
    "```\n",
    "\n",
    "### User Input\n",
    "\n",
    "User input can be requested through the use of the ``input`` function. This function returns the string of whatever the user typed.\n",
    "```python\n",
    "food = input(\"What is your favorite food? \")\n",
    "```\n",
    "\n",
    "### Statement Groups\n",
    "\n",
    "Statement groups is anything that would be followed by a block of code. For example functions, classes, if statements, etc. Each of these expressions begins with the expression then on the same line it is followed by a colon (``:``). All the indented lines after a colon will be part of that code block. Note that after a colon, there must be some indented code, if you want to do noting, use the ``pass`` identifier. This tells python to do nothing for that code block.\n",
    "```python\n",
    "if expression:\n",
    "    # Do stuff here\n",
    "    pass\n",
    "```"
   ]
  },
  {
   "cell_type": "code",
   "execution_count": null,
   "metadata": {},
   "outputs": [],
   "source": []
  }
 ],
 "metadata": {
  "kernelspec": {
   "display_name": "Python 3",
   "language": "python",
   "name": "python3"
  },
  "language_info": {
   "codemirror_mode": {
    "name": "ipython",
    "version": 3
   },
   "file_extension": ".py",
   "mimetype": "text/x-python",
   "name": "python",
   "nbconvert_exporter": "python",
   "pygments_lexer": "ipython3",
   "version": "3.6.5"
  }
 },
 "nbformat": 4,
 "nbformat_minor": 2
}
