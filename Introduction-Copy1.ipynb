{
 "cells": [
  {
   "cell_type": "markdown",
   "metadata": {},
   "source": [
    "# Jupyter Notebooks"
   ]
  },
  {
   "cell_type": "markdown",
   "metadata": {},
   "source": [
    "## The Cell\n",
    "\n",
    "In a Jupyter notebook, everything is part of a cell. The great part of these notebooks is that each cell can interact with one another, but can be run sepreatly. This means that something in one cell can be used from some other cell later in the notebook.\n",
    "\n",
    "There are two types of cell. A *Code Cell* and a *Markdown Cell*."
   ]
  },
  {
   "cell_type": "markdown",
   "metadata": {},
   "source": [
    "### Code Cell\n",
    "\n",
    "The code cell is the default type of cell. These cells are able to execute Python3 code. Any valid Python code can be run in these cells, and as noted before, the code from one cell can be used from a different code cell. We will explain more about python throughout this introduction."
   ]
  },
  {
   "cell_type": "markdown",
   "metadata": {},
   "source": [
    "### Markdown Cell\n",
    "\n",
    "Markdown cells are tools that are used to add documentation to the notebook. If you know of LaTeX, then you can think of Markdown as a simplified version of LaTeX. All of the cells so far have been Markdown cells. We will look more into markdown in a different part of this introduction."
   ]
  },
  {
   "cell_type": "markdown",
   "metadata": {},
   "source": [
    "## Controls\n",
    "\n",
    "There are a few controls that are neccesary for using a jupyter notebook. These are listed below.\n",
    "\n",
    "* ``Shift+Enter`` This will run the current cell, either executing the code or rendering the markdown.\n",
    "* ``Kernel->Restart`` This will restart the python execution. This means that all of the cells will need to be run again.\n",
    "* ``Cell->Run All`` This will run all of the cells in order. This is very handy when first opening a notebook.\n",
    "* ``Cell->Cell Type`` This will allow you to pick the type of the cell between *code* and *markdown*. Then that cell will behave appropriatly."
   ]
  },
  {
   "cell_type": "markdown",
   "metadata": {},
   "source": [
    "# Markdown\n",
    "\n",
    "Markdown is a very simple text markup language, that adds simple formatting tools that help in constructing documents.\n",
    "\n",
    "Paragraphs are just controlled by having a blank line, otherwise all the text is included in a single paragraph.\n",
    "\n",
    "```markdown\n",
    "This is my first paragraph.\n",
    "This is still part of that paragraph.\n",
    "\n",
    "Now this will be part of the second paragraph.\n",
    "```"
   ]
  },
  {
   "cell_type": "markdown",
   "metadata": {},
   "source": [
    "## Headers\n",
    "\n",
    "Markdown allows for many levels of headers (sections/subsections). These are done by\n",
    "\n",
    "```markdown\n",
    "# Heading 1\n",
    "## Heading 2\n",
    "### Heading 3\n",
    "#### Heading 4\n",
    "##### Heading 5\n",
    "```"
   ]
  },
  {
   "cell_type": "markdown",
   "metadata": {},
   "source": [
    "## Emphasis\n",
    "\n",
    "Emphasis in markdown must be explicit. Instead of most word processors, you do not change a setting to enable or disable italics, but in the text itself you use some *special* notation.\n",
    "\n",
    "*This will be in italics*\n",
    "_This will also be in italics_\n",
    "\n",
    "**This will be in bold**\n",
    "__This will also be in bold__\n",
    "\n",
    "*They **can** even be combined*\n",
    "\n",
    "```markdown\n",
    "*This will be in italics*\n",
    "_This will also be in italics_\n",
    "\n",
    "**This will be in bold**\n",
    "__This will also be in bold__\n",
    "\n",
    "*They **can** even be combined*\n",
    "```"
   ]
  },
  {
   "cell_type": "markdown",
   "metadata": {},
   "source": [
    "## Block Quotes\n",
    "\n",
    "Block quotes add are nice for having something stand our against the rest of the text as a special block.\n",
    "\n",
    "> This is a block quote.\n",
    "> This is the second line of the quote.\n",
    "\n",
    "```markdown\n",
    "> This is a block quote.\n",
    "> This is the second line of the quote.\n",
    "```"
   ]
  },
  {
   "cell_type": "markdown",
   "metadata": {},
   "source": [
    "## Lists\n",
    "\n",
    "### Unordered\n",
    "\n",
    "Unordered lists can be done through just using a ``*`` at the beginning of the line.\n",
    "\n",
    "* Item 1\n",
    "* Item 2\n",
    "    * Item 2.1\n",
    "    * Item 2.2\n",
    "    \n",
    "```markdown\n",
    "* Item 1\n",
    "* Item 2\n",
    "    * Item 2.1\n",
    "    * Item 2.2\n",
    "```\n",
    "\n",
    "### Ordered\n",
    "\n",
    "Ordered lists can be done through using ``#.`` at the beginning of the line.\n",
    "\n",
    "1. Item 1\n",
    "2. Item 2\n",
    "    1. Item 3\n",
    "    2. Item 4\n",
    "    \n",
    "```markdown\n",
    "1. Item 1\n",
    "2. Item 2\n",
    "    1. Item 3\n",
    "    2. Item 4\n",
    "```"
   ]
  },
  {
   "cell_type": "markdown",
   "metadata": {},
   "source": [
    "## Code Blocks\n",
    "\n",
    "Code can be inserted into the markdown by using accent marks optionally followed by a language name.\n",
    "\n",
    "```python\n",
    "import numpy as np\n",
    "def main():\n",
    "    print(\"Hello, World!\")\n",
    "```\n",
    "\n",
    "<code>\n",
    "```python\n",
    "import numpy as np\n",
    "def main():\n",
    "    print(\"Hello, World!\")\n",
    "```\n",
    "</code>\n",
    "\n",
    "### Inline Code\n",
    "\n",
    "Code can also be placed inline, although it will not be highlighted. This is done by using accent marks again.\n",
    "\n",
    "This is some text but with a reference to some ``var`` in it. That ``var`` will be formated like code!\n",
    "\n",
    "<code>\n",
    "This is some text but with a reference to some ``var`` in it. That ``var`` will be formated like code!\n",
    "</code>\n"
   ]
  },
  {
   "cell_type": "markdown",
   "metadata": {},
   "source": [
    "## Math Blocks\n",
    "\n",
    "Math can also be represented, This is done using ``$$`` to start and end the block. Everything within that block is represented by using LaTeX to render it.\n",
    "\n",
    "$$\n",
    "f(x)=\\frac{\\sin(x^2)}{\\log_10(x)}\n",
    "$$\n",
    "\n",
    "```markdown\n",
    "$$\n",
    "f(x)=\\frac{\\sin(x^2)}{\\log_10(x)}\n",
    "$$\n",
    "```\n",
    "\n",
    "### Inline Math\n",
    "\n",
    "Math can also be placed inline, by only using a single ``$`` to start and end it.\n",
    "\n",
    "This is some equation $\\frac{2}{x}$.\n",
    "\n",
    "```markdown\n",
    "This is some equation $\\frac{2}{x}$.\n",
    "```"
   ]
  },
  {
   "cell_type": "markdown",
   "metadata": {},
   "source": [
    "# Python\n",
    "\n",
    "We will now provide a small introduction to a practical usage of python."
   ]
  },
  {
   "cell_type": "markdown",
   "metadata": {},
   "source": [
    "## Variables\n",
    "\n",
    "Variables are names that we can use to store values for the computer to use. This is fairly intuitive, we just have a name and we say what it is equal to. For example,\n",
    "\n",
    "```python\n",
    "year=2019\n",
    "name=\"John\"\n",
    "x=3.7\n",
    "```\n",
    "\n",
    "Note that we can say a variable is equal to a number of some *string* of letters. We are also able to asign variables to different variables.\n",
    "\n",
    "```python\n",
    "x=5\n",
    "y=x\n",
    "```\n",
    "\n",
    "This will store the value ``5`` in both ``x`` and in ``y``.\n",
    "\n",
    "> Try creating some variables in the cell below and assign some number to them."
   ]
  },
  {
   "cell_type": "code",
   "execution_count": 21,
   "metadata": {},
   "outputs": [],
   "source": [
    "x=5\n",
    "y=7"
   ]
  },
  {
   "cell_type": "markdown",
   "metadata": {},
   "source": [
    "## Lists\n",
    "\n",
    "Lists are just another type of variable, like a number or a string. The special thing about lists is that they can contain many elements. to write a list we use ``[`` and ``]``. An example of a list of the odd numbers could be written as\n",
    "```python\n",
    "odds = [1,3,5,7,9,11]\n",
    "```\n",
    "\n",
    "There are some special operations that we can do with these lists.\n",
    "```python\n",
    "odds.append(13)\n",
    "odds[0]\n",
    "odds[3]\n",
    "odds[-1]\n",
    "odds[1:3]\n",
    "len(odds)\n",
    "```\n",
    "\n",
    "The first operation adds a new value to the end of the list, the next three are accessing specific values in the list, the next one is accessing a sublist from the list. Then the final operation gives us the length of the list.\n",
    "\n",
    "> Try making a list of values, and using some of the operations to manipulate the list."
   ]
  },
  {
   "cell_type": "code",
   "execution_count": 22,
   "metadata": {},
   "outputs": [
    {
     "data": {
      "text/plain": [
       "8"
      ]
     },
     "execution_count": 22,
     "metadata": {},
     "output_type": "execute_result"
    }
   ],
   "source": [
    "evens=[2,4,6,8]\n",
    "evens.append(10)\n",
    "evens[-2]"
   ]
  },
  {
   "cell_type": "markdown",
   "metadata": {},
   "source": [
    "## Arithmetic\n",
    "\n",
    "Using either variables or numbers directly we are able to compute most arithmetic operations. We have ``+``, ``-``, ``*``, and ``/``. They work exactly as you would expect them to.\n",
    "\n",
    "```python\n",
    "x + y\n",
    "z - x\n",
    "2.0 * y\n",
    "z / y\n",
    "```\n",
    "\n",
    "These new values can then be saved into variables themselves\n",
    "\n",
    "```python\n",
    "x = z * y\n",
    "```\n",
    "\n",
    "> Try using the variables you created before with the arithmetic operations."
   ]
  },
  {
   "cell_type": "code",
   "execution_count": 23,
   "metadata": {},
   "outputs": [
    {
     "data": {
      "text/plain": [
       "12"
      ]
     },
     "execution_count": 23,
     "metadata": {},
     "output_type": "execute_result"
    }
   ],
   "source": [
    "x + y"
   ]
  },
  {
   "cell_type": "markdown",
   "metadata": {},
   "source": [
    "## Printing\n",
    "\n",
    "You may have noticed that if you wrote\n",
    "```python\n",
    "x+y\n",
    "```\n",
    "then it printed the answer below the cell, but if you wrote\n",
    "```python\n",
    "x=x+y\n",
    "```\n",
    "then it didn't. Since we will usually want to know what the values of our variables are, we will need some way to display them. For this we introduce the ``print`` statement. The print statements takes some variables, or values, or strings, and will print them all out.\n",
    "```python\n",
    "x=1\n",
    "y=2\n",
    "print(\"My variables are:\", x, y,  9)\n",
    "```\n",
    "This will print out\n",
    "```\n",
    "My variables are: 1 2 9\n",
    "```\n",
    "\n",
    "> Try printing out some of the variables that you made before. Try it with some strings or some numbers as well."
   ]
  },
  {
   "cell_type": "code",
   "execution_count": 24,
   "metadata": {},
   "outputs": [
    {
     "name": "stdout",
     "output_type": "stream",
     "text": [
      "Value is 12 -2\n"
     ]
    }
   ],
   "source": [
    "print(\"Value is\", x+y, x-y)"
   ]
  },
  {
   "cell_type": "markdown",
   "metadata": {},
   "source": [
    "## Conditionals\n",
    "\n",
    "Conditionals are the name for any expression that is only evaluated based upon some condition. For example if we want to print something *if* $x=5$ then we can write\n",
    "```python\n",
    "if x == 5:\n",
    "    print(\"X is 5\")\n",
    "```\n",
    "**Note** that we used ``==``, this is what is used when values are compared, and ``=`` is used when values are assigned. Also note that the line following the ``if`` is indented. Everything that is indented will be evaluated if the condition is met, so it is possible to have more than one line following an if statement.\n",
    "\n",
    "This can also be expanded. If we want to print something if $x=5$ otherwise if $x\\neq 5$ then we want to print something else, we do this through ``else``.\n",
    "```python\n",
    "if x == 5:\n",
    "    print(\"X is 5\")\n",
    "else:\n",
    "    print(\"X is not 5\")\n",
    "```\n",
    "The final part of a conditional is the ``elif``, this is used when if $x\\neq 5$ but when $x=8$ we want to print something else.\n",
    "```python\n",
    "if x == 5:\n",
    "    print(\"X is 5\")\n",
    "elif x == 8:\n",
    "    print(\"X is 8\")\n",
    "else:\n",
    "    print(\"X is neither 5 nor 8\")\n",
    "```\n",
    "\n",
    "There are many things we can use in the conditional. Below are some of the more common conditional operations.\n",
    "\n",
    "| Python   | Math    | Name                     |\n",
    "|----------|---------|--------------------------|\n",
    "| ``==``   | $=$     | Equal                    |\n",
    "| ``!=``   | $\\neq$  | Not Equal                |\n",
    "| ``>``    | $>$     | Greater Then             |\n",
    "| ``<``    | $<$     | Less Than                |\n",
    "| ``>=``   | $\\leq$  | Greater Than or Equal to |\n",
    "| ``<=``   | $\\geq$  | Less Than or Equal to    |\n",
    "| ``\\|\\|`` | $\\lor$  | Or                       |\n",
    "| ``&&``   | $\\land$ | And                      |\n",
    "| ``!``    | $\\neg$  | Not                      |\n",
    "\n",
    "> Try using some conditionals below. Get used to using the ``if``, ``elif`` and ``else`` conditions."
   ]
  },
  {
   "cell_type": "code",
   "execution_count": 26,
   "metadata": {},
   "outputs": [
    {
     "name": "stdout",
     "output_type": "stream",
     "text": [
      "X > 0 and Y >= X\n"
     ]
    }
   ],
   "source": [
    "if x > y:\n",
    "    print(\"X > Y\")\n",
    "elif x > 0:\n",
    "    print(\"X > 0 and Y >= X\")\n",
    "elif y > 0:\n",
    "    print(\"X <= 0 and Y > 0 and Y >= X\")\n",
    "else:\n",
    "    print(\"X <= 0 and  Y <= 0\")"
   ]
  },
  {
   "cell_type": "markdown",
   "metadata": {},
   "source": [
    "## Loops\n",
    "\n",
    "Loops are a tool that can be used for any process that can repeated. There are two main types of loops *while* loops and *for* loops."
   ]
  },
  {
   "cell_type": "markdown",
   "metadata": {},
   "source": [
    "### While Loops\n",
    "\n",
    "While loops simply repeat a block of code as long as a condition is met.\n",
    "```python\n",
    "while x != 0:\n",
    "    x = x - 1\n",
    "    print(x)\n",
    "```\n",
    "This will just keep remove ``1`` from ``x`` until the condition is no longer true, in this case when ``x==0``.\n",
    "\n",
    "> Try using a while loop below."
   ]
  },
  {
   "cell_type": "code",
   "execution_count": 27,
   "metadata": {},
   "outputs": [
    {
     "name": "stdout",
     "output_type": "stream",
     "text": [
      "2\n",
      "1\n"
     ]
    }
   ],
   "source": [
    "while x > 1:\n",
    "    x = x // 2\n",
    "    print(x)"
   ]
  },
  {
   "cell_type": "markdown",
   "metadata": {},
   "source": [
    "## For Loops\n",
    "\n",
    "For loops are used for going through a list of elements. So if we have a list of number and want to do something to all of them we would write the following.\n",
    "```python\n",
    "values = [1,3,5,7,9]\n",
    "for x in values:\n",
    "    print(x-2)\n",
    "```\n",
    "\n",
    "> Try using the for loop with the list that you made earlier."
   ]
  },
  {
   "cell_type": "code",
   "execution_count": 29,
   "metadata": {},
   "outputs": [
    {
     "name": "stdout",
     "output_type": "stream",
     "text": [
      "4\n",
      "16\n",
      "36\n",
      "64\n",
      "100\n"
     ]
    }
   ],
   "source": [
    "for v in evens:\n",
    "    print(v * v)"
   ]
  },
  {
   "cell_type": "markdown",
   "metadata": {},
   "source": [
    "## Functions\n",
    "\n",
    "Functions are blocks of code that do one thing. This becomes useful for when you are doing something many times, you won't need to rewrite the same code. Lets say we need to find the average of two values many times. One option would be to simply write\n",
    "```python\n",
    "avg_value=(x+y)/2.0\n",
    "```\n",
    "every time that we need the average, or we can *def*ine a function to do that for us. For example\n",
    "```python\n",
    "def avg(x,y):\n",
    "    val=(x+y)/2\n",
    "    return val\n",
    "avg_value=avg(a,b)\n",
    "```\n",
    "\n",
    "There is a lot going on here, so lets go though it line by line.\n",
    "\n",
    "1. First we say ``def`` this just says that we are creating a function. The ``avg`` is the name of the function, how we will use it later. Then the ``(x,y)`` is telling us the values that the function takes, which we call ``x`` and ``y``. This line can be though of as equivalent to saying $$f(x,y)$$, we have not said what the function does, but we denote its name and the variables that it takes.\n",
    "2. Again note that this portion must be indented, otherwise it will not be part of the function. In this line we are creating a new variable ``val`` and assigning it to the result of the arithmetic operations that will find the average.\n",
    "3. This final line of the function begins with the key word ``return``. This says that whatever follows is what the function returns, so in our case it returns one number.\n",
    "4. This line is assigning the variable ``avg_value`` to the result of the function given some input variables ``a`` and ``b``.\n",
    "\n",
    "This example function can be though of as\n",
    "$$\n",
    "\\text{avg}:\\mathbb{R}\\times\\mathbb{R}\\rightarrow\\mathbb{R}\\\\\n",
    "\\text{avg}(x,y)=\\frac{x+y}{2}\n",
    "$$\n",
    "\n",
    "> Try creating a function for the equation $$f(x)=x^3-x$$."
   ]
  },
  {
   "cell_type": "code",
   "execution_count": 1,
   "metadata": {},
   "outputs": [],
   "source": [
    "def f(x):\n",
    "    return x*x*x-x"
   ]
  },
  {
   "cell_type": "markdown",
   "metadata": {},
   "source": [
    "## Modules\n",
    "\n",
    "Modules are extra \"files\" that provide many useful tools, so that we don't have to make our own. The three main that we will use are ``numpy``, ``scipy``, and ``matplotlib``. These are three very well developed modules that do much of the hard work for us. Before we are able to use a module we must *import* it. This can be done in a couple of different ways. Here are the main three that we will be using.\n",
    "\n",
    "```python\n",
    "import scipy\n",
    "import numpy as np\n",
    "import matplotlib.pyplot as plt\n",
    "```\n",
    "\n",
    "The ``import as`` just makes a new name that we can use to reference that module, so instead of using the tools from ``numpy`` we will use the tools from ``np`` which is what we called the ``numpy`` module.\n",
    "\n",
    "The ``import matplotlib.pyplot`` is just importing a specific tool from the ``matplotlib`` module, because we do not need all of it. These modules provide us with many functions that we will use very frequently.\n",
    "\n",
    "Most mathematical functions can be found in ``numpy``. For example there is ``sin``, ``cos``, ``sqrt``, ``power``, ``log``, ``exp``, etc. ``numpy`` also includes many common constants, for example ``pi``.\n",
    "\n",
    "After importing ``matplotlib`` it is possible to add the line of code\n",
    "```python\n",
    "%matplotlib notebook\n",
    "```\n",
    "This is **ONLY** for jupyter notebooks, and it allows the plots to be interactive.\n",
    "\n",
    "> Try importing the ``numpy`` and ``matplotlib`` modules in the cell below, and using some of the functions from ``numpy``."
   ]
  },
  {
   "cell_type": "code",
   "execution_count": 2,
   "metadata": {},
   "outputs": [],
   "source": [
    "import numpy as np\n",
    "import matplotlib.pyplot as plt\n",
    "%matplotlib notebook"
   ]
  },
  {
   "cell_type": "markdown",
   "metadata": {},
   "source": [
    "# Putting it all together\n",
    "\n",
    "Now that we have everything imported, lets make a plot of the function you made in the functions section.\n",
    "\n",
    "First we want to specify a range of $x$ values that we will evaluate our function at. We will do this by using the ``linspace`` function that is provided to us in the ``numpy`` module. The ``linspace`` function takes three arguments, the starting value, then ending value, and the number of steps between them. Note that this last argument is optional.\n",
    "\n",
    "```python\n",
    "X=np.linspace(-2, 2)\n",
    "```"
   ]
  },
  {
   "cell_type": "code",
   "execution_count": 3,
   "metadata": {},
   "outputs": [],
   "source": [
    "X=np.linspace(-2,2)"
   ]
  },
  {
   "cell_type": "markdown",
   "metadata": {},
   "source": [
    "Now want to make a list of the $y$ values associated with the $x$ values. To do this we will make a *for* loop over the $x$ values.\n",
    "\n",
    "```python\n",
    "Y=[]\n",
    "for x in X:\n",
    "    Y.append(f(x))\n",
    "```"
   ]
  },
  {
   "cell_type": "code",
   "execution_count": 4,
   "metadata": {},
   "outputs": [],
   "source": [
    "Y=[f(x) for x in X]"
   ]
  },
  {
   "cell_type": "markdown",
   "metadata": {},
   "source": [
    "Now that we have a list of $x$ and $y$ values, we will make use of a different module that we imported.\n",
    "\n",
    "MatPlotLib is a tool for making plots of the functions. The basic function that we will be using is ``pyplot.plot``. This function takes two required arguments the $x$ values and the $y$ values. There are many other optional arguments, but for the basic introduction we need not concern ourselves with those.\n",
    "\n",
    "```python\n",
    "plt.plot(X,Y)\n",
    "```\n",
    "\n",
    "In order to view the plot we need to tell matplotlib to show it to us. We do this with the ``pyplot.show`` function.\n",
    "\n",
    "```python\n",
    "plt.show()\n",
    "```"
   ]
  },
  {
   "cell_type": "code",
   "execution_count": 5,
   "metadata": {},
   "outputs": [
    {
     "data": {
      "image/png": "[encoded data removed]",
      "text/plain": [
       "<Figure size 432x288 with 1 Axes>"
      ]
     },
     "metadata": {
      "needs_background": "light"
     },
     "output_type": "display_data"
    }
   ],
   "source": [
    "plt.plot(X,Y)\n",
    "plt.show()"
   ]
  },
  {
   "cell_type": "markdown",
   "metadata": {},
   "source": [
    "This should provide us with a basic example of how we can plot something!\n",
    "\n",
    "It is also possible to plot multiple things, by just calling ``pyplot.plot`` multiple times before showing the plot.\n",
    "\n",
    "```python\n",
    "plt.plot(X1,Y1)\n",
    "plt.plot(X2,Y2)\n",
    "plt.show()\n",
    "```\n",
    "\n",
    "This would plot both of the lines corresponding to the values in $Y_1$ and $Y_2$ on the same plot."
   ]
  },
  {
   "cell_type": "markdown",
   "metadata": {},
   "source": [
    "# Try It Yourself\n",
    "\n",
    "Now that you have a basic introduction to how to use Jupyter notebooks, python, numpy, and matplotlib. Try to make of plot of the two functions on the same plot.\n",
    "\n",
    "> \\begin{align}\n",
    "f(x)&=2\\sin\\left(\\frac{x}{2}\\right)\\quad x\\in[-\\pi,\\pi]\\\\\n",
    "g(x)&=\\frac{x^3}{100}+x\\quad x\\in[-6,6]\\\\\n",
    "\\end{align}"
   ]
  },
  {
   "cell_type": "code",
   "execution_count": 20,
   "metadata": {},
   "outputs": [
    {
     "data": {
      "image/png": "[encoded data removed]",
      "text/plain": [
       "<Figure size 432x288 with 1 Axes>"
      ]
     },
     "metadata": {
      "needs_background": "light"
     },
     "output_type": "display_data"
    }
   ],
   "source": [
    "def f(x):\n",
    "    return 2*np.sin(x/2)\n",
    "def g(x):\n",
    "    return np.power(x,3)/100+np.power(x,1)\n",
    "plt.plot(np.linspace(-np.pi,np.pi), [f(x) for x in np.linspace(-np.pi, np.pi)])\n",
    "plt.plot(np.linspace(-6, 6), [g(x) for x in np.linspace(-6,6)])\n",
    "plt.show()"
   ]
  },
  {
   "cell_type": "code",
   "execution_count": null,
   "metadata": {},
   "outputs": [],
   "source": []
  }
 ],
 "metadata": {
  "kernelspec": {
   "display_name": "Python 3",
   "language": "python",
   "name": "python3"
  },
  "language_info": {
   "codemirror_mode": {
    "name": "ipython",
    "version": 3
   },
   "file_extension": ".py",
   "mimetype": "text/x-python",
   "name": "python",
   "nbconvert_exporter": "python",
   "pygments_lexer": "ipython3",
   "version": "3.6.5"
  }
 },
 "nbformat": 4,
 "nbformat_minor": 2
}
