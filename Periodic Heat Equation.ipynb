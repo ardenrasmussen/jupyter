{
 "cells": [
  {
   "cell_type": "markdown",
   "metadata": {},
   "source": [
    "# Periodic heat equation"
   ]
  },
  {
   "cell_type": "code",
   "execution_count": 4,
   "metadata": {},
   "outputs": [],
   "source": [
    "import numpy as np\n",
    "import scipy.integrate as integrate\n",
    "import matplotlib.pyplot as plt\n",
    "plt.rcParams['figure.figsize'] = [10,5]"
   ]
  },
  {
   "cell_type": "markdown",
   "metadata": {},
   "source": [
    "## Part 1"
   ]
  },
  {
   "cell_type": "markdown",
   "metadata": {},
   "source": [
    "The instructions:\n",
    "> We take the perspective that a function $u(t,x)$ is a path of vectors in $\\mathcal L^2([-L,L])$, meaning that for each time $t$ we have a vector.\n",
    "With this perspective, the little Fourier transform takes $u(t,x)$ to a path in $l^2(\\mathbb Z)$, meaning that for each $t$ we have a sequence.\n",
    "Show that\n",
    "\\begin{equation*}\n",
    "f\\left[\\frac{\\partial u}{\\partial t}\\right]_k = \\frac{d}{dt} f[u]_k.\n",
    "\\end{equation*}\n",
    "and that\n",
    "\\begin{equation*}\n",
    "f\\left[\\frac{\\partial u}{\\partial x}\\right]_k = i \\left(\\frac{k\\pi}{L}\\right)\\, f[u]_k.\n",
    "\\end{equation*}\n",
    "We interpret this to mean that the little Fourier transform does not touch $t$ differentiation, and that the little transform takes spatial differentiation to multiplication by $ i \\frac{k\\pi}{L}$.\n",
    ">\n",
    "> Test out the second formula above with the function $u(x) = x$. What is $f(u)$? What is $f(u^\\prime)$? Does the formula work?\n",
    "\n",
    "For the first derivative formula we compute\n",
    "\\begin{align*}\n",
    "f\\left[\\frac{\\partial u}{\\partial t}\\right]_k\n",
    "&= \\frac{1}{2L}\\int_{-L}^L e^{-i\\frac{k\\pi}{L}x}\\frac{\\partial u}{\\partial t}(t,x)\\,dx\n",
    "\\\\\n",
    "&= \\frac{d}{dt}\\frac{1}{2L}\\int_{-L}^L e^{-i\\frac{k\\pi}{L}x}u(t,x)\\,dx\n",
    "\\\\\n",
    "&= \\frac{d}{dt} f[u]_k\n",
    "\\end{align*}\n",
    "For the second derivative formula we integrate by parts to obtain:\n",
    "\\begin{align*}\n",
    "f\\left[\\frac{\\partial u}{\\partial x}\\right]_k\n",
    "&= \\frac{1}{2L}\\int_{-L}^L e^{-i\\frac{k\\pi}{L}x}\\frac{\\partial u}{\\partial x}(t,x)\\,dx\n",
    "\\\\\n",
    "&= \\frac{1}{2L}\\left[ e^{-i\\frac{k\\pi}{L}x} u(t,x)\\right]_{-L}^L - \\frac{1}{2L}\\int_{-L}^L \\frac{d}{dx}\\left[e^{-i\\frac{k\\pi}{L}x}\\right] u(t,x)\\,dx\n",
    "\\\\\n",
    "&= \\frac{1}{2L}\\left[ e^{-i\\frac{k\\pi}{L}L} u(t,L) - e^{i\\frac{k\\pi}{L}L} u(t,-L)\\right]_{-L}^L \n",
    "+ i \\left(\\frac{k\\pi}{L}\\right) \\frac{1}{2L}\\int_{-L}^L e^{-i\\frac{k\\pi}{L}x} u(t,x)\\,dx\n",
    "\\\\\n",
    "&=\\frac{(-1)^k}{2L}\\Big[u(t,L) -u(t,-L)\\Big] + i \\left(\\frac{k\\pi}{L}\\right) f[u]_k\n",
    "\\end{align*}\n",
    "Thus if the function $u$ satisfies the periodic boundary condition we find\n",
    "$$\n",
    "f\\left[\\frac{\\partial u}{\\partial x}\\right]_k = i \\left(\\frac{k\\pi}{L}\\right) f[u]_k.\n",
    "$$\n",
    "Fun!\n",
    "\n",
    "Recall that we also allow functions to have \"jumps\". The formula above causes a bit of trouble when these jumps are right at the boundary.\n",
    "To see this, consider the example of the function $u$ given by $u(x)$.\n",
    "In previous homework we computed\n",
    "$$\n",
    "f[u]_k\n",
    "=\n",
    "\\begin{cases}\n",
    "\\alpha_k = (-1)^k\\frac{iL}{k\\pi}\n",
    "& k\\neq 0,\n",
    "\\\\\n",
    "0 & k=0.\n",
    "\\end{cases}\n",
    "$$\n",
    "It is easy to compute the coefficients for the function $u^\\prime$:\n",
    "$$\n",
    "f[u^\\prime]_k \n",
    "=\n",
    "\\begin{cases}\n",
    "0 & k\\neq 0,\n",
    "\\\\\n",
    "1 & k=0.\n",
    "\\end{cases}\n",
    "$$\n",
    "Clearly, these don't follow the formula. If you go back to the integration-by-parts computation, you'll see that the \"boundary terms\" don't cancel when there is a jump at the boundary."
   ]
  },
  {
   "cell_type": "markdown",
   "metadata": {},
   "source": [
    "## Part 2"
   ]
  },
  {
   "cell_type": "markdown",
   "metadata": {},
   "source": [
    "The instructions:\n",
    ">The formulas above allow us to transform the heat equation in to an infinite list of ODEs.\n",
    "Show that the heat equation becomes\n",
    "\\begin{equation*}\n",
    "\\frac{d}{dt} f[u]_k = -\\left( \\frac{k\\pi}{L}\\right)^2 f[u]_k.\n",
    "\\end{equation*}\n",
    "(It might be helpful to use the notation $\\alpha = f[u]$.)\n",
    ">\n",
    ">We assume that the solution $u$ to the heat equation has some initial heat profile $u(0,x) = u_0$.\n",
    "How does this initial condition transform?\n",
    "\n",
    "To transform the heat equation, we consider the left side and right side independently.\n",
    "Using Part 1 we have\n",
    "\\begin{align*}\n",
    "\\text{left side} &=\\frac{d}{dt} f[u]_k\n",
    "\\\\\n",
    "\\text{right side} &= - \\left(\\frac{k\\pi}{L}\\right)^2 f[u]_k\n",
    "\\end{align*}\n",
    "Setting these equal gives the desired equation.\n",
    "\n",
    "It is important to keep in mind that $f[u]_k$ is a function of $t$.\n",
    "\n",
    "For the initial condition, transforming the condition $u(0,x) = u_0(x)$ yields\n",
    "$$\n",
    "f[u]_k(0) = f[u_0]_k.\n",
    "$$"
   ]
  },
  {
   "cell_type": "markdown",
   "metadata": {},
   "source": [
    "## Part 3"
   ]
  },
  {
   "cell_type": "markdown",
   "metadata": {},
   "source": [
    "The instructions:\n",
    ">The infinite list of ODE should be easily solvable. Show that the solution is\n",
    "\\begin{equation*}\n",
    "f[u]_k = f[u_0]_k G_k.\n",
    "\\end{equation*}\n",
    "where $G_k = e^{-\\left( \\frac{k\\pi}{L}\\right)^2t}$.\n",
    ">\n",
    ">Notice that this is a product! Thus we expect this to come from a convolution in physical space\\dots but a convolution of what? We need a function $g(t,x)$ such that $f(g)_k = G_k$.\n",
    "\n",
    "The coefficient $f[u]_k$ satisfies the IVP\n",
    "$$\n",
    "\\frac{d}{dt}f[u]_k = -\\left( \\frac{k\\pi}{L}\\right)^2 f[u]_k\n",
    "\\qquad\n",
    "f[u]_k(0) = f[u_0]_k.\n",
    "$$\n",
    "We have solved this many times in Math 235. The solution is\n",
    "$$\n",
    "f[u]_k = f[u_0]_ke^{-\\left( \\frac{k\\pi}{L}\\right)^2t}.\n",
    "$$\n",
    "Thus we have the desired formula."
   ]
  },
  {
   "cell_type": "markdown",
   "metadata": {},
   "source": [
    "## Part 4"
   ]
  },
  {
   "cell_type": "markdown",
   "metadata": {},
   "source": [
    "The instructions:\n",
    ">Use the Fourier inversion (aka Fourier series) to construct the desired function $g$. Use Desmos to plot $g(t,x)$ for various values of $t$. What does this function look like?\n",
    "I claim that this is the periodic version of the function $K$ that appeared in the previous project. Do you agree?\n",
    "\n",
    "The function $g(t,x)$ is defined by the condition\n",
    "$$ f[g]_k = G_k = e^{-\\left( \\frac{k\\pi}{L}\\right)^2t}.$$\n",
    "We can approximate $g$ by\n",
    "\\begin{align*}\n",
    "g_n(t,x) &= \\sum_{k-=n}^n G_k \\psi_k \n",
    "\\\\\n",
    "&= \\sum_{k=-n}^n e^{-\\left( \\frac{k\\pi}{L}\\right)^2t}e^{i\\frac{k\\pi}{L}x}\n",
    "\\\\\n",
    "&= 1 + \\frac12\\sum_{k=1}^n e^{-\\left( \\frac{k\\pi}{L}\\right)^2t}\\cos\\left(\\tfrac{k\\pi}{L}x\\right)\n",
    "\\end{align*}\n",
    "Let's do some plotting!\n",
    "For the purposes of plotting we take $L = \\pi$."
   ]
  },
  {
   "cell_type": "code",
   "execution_count": 5,
   "metadata": {},
   "outputs": [
    {
     "data": {
      "image/png": "[encoded data removed]",
      "text/plain": [
       "<Figure size 720x360 with 4 Axes>"
      ]
     },
     "metadata": {
      "needs_background": "light"
     },
     "output_type": "display_data"
    }
   ],
   "source": [
    "g10 = lambda t,x: 1 + (1/2)*sum([np.exp(-1*(k**2)*t)*np.cos(k*x) for k in range(1,10)])\n",
    "\n",
    "X = np.linspace(-np.pi, np.pi, 100)\n",
    "\n",
    "plt.subplot(1,4,1)\n",
    "plt.plot(X, [g10(0.01,x) for x in X], label=\"t=.01\")\n",
    "plt.ylim(0,6)\n",
    "plt.legend()\n",
    "plt.subplot(1,4,2)\n",
    "plt.plot(X, [g10(0.05,x) for x in X], label=\"t=.05\")\n",
    "plt.ylim(0,6)\n",
    "plt.legend()\n",
    "plt.subplot(1,4,3)\n",
    "plt.plot(X, [g10(0.1,x) for x in X], label=\"t=.1\")\n",
    "plt.ylim(0,6)\n",
    "plt.legend()\n",
    "plt.subplot(1,4,4)\n",
    "plt.plot(X, [g10(1,x) for x in X], label=\"t=.1\")\n",
    "plt.ylim(0,6)\n",
    "plt.legend()\n",
    "plt.show()"
   ]
  },
  {
   "cell_type": "markdown",
   "metadata": {},
   "source": [
    "## Part 5"
   ]
  },
  {
   "cell_type": "markdown",
   "metadata": {},
   "source": [
    "The instructions:\n",
    ">We now can construct the periodic solution to the heat equation in two ways.\n",
    " * Since we know $f[u]_k$ we can directly compute the Fourier series.\n",
    " * Or we can view the solution as $u = u_0 \\ast g$, where $u_0$ is the initial shape and $g$ is the thing we constructed above.\n",
    ">\n",
    ">Explain how to interpret each of these perspectives from a physical point of view.\n",
    "\n",
    "Using the Fourier series approach, we have\n",
    "\\begin{align*}\n",
    "u(t,x) &= \\sum_k f[u_0]_k G_k \\Psi_k\n",
    "\\\\\n",
    "&=\\sum_k f[u_0]_k e^{-\\left( \\frac{k\\pi}{L}\\right)^2t}e^{i\\frac{k\\pi}{L}x}\n",
    "\\end{align*}\n",
    "This perspective views $u(t,x)$ as a weighted sum of the periodic eigenfunctions $\\Psi_k = e^{i\\frac{k\\pi}{L}x}$ and thus emphasizes how much of each spatial scale (or \"frequency\") is present, and how each scale evolves in time.\n",
    "From the Fourier series expression, we immediately deduce that the finer spatial scales decay much faster than th coarser spatial scales.\n",
    "Physically, we interpret this perspective as viewing a the heat function as the combination of features at differenc scales.\n",
    "The fact that the finer scales decay faster we interpret as the heat equation smooths smaller irregularities very quickly, but moves larger chunks of heat much more slowly.\n",
    "\n",
    "Using the convolution approach, we have $u = u_0\\ast g$\n",
    "$$\n",
    "u(t,x) = \\frac{1}{2L}\\int_{-L}^L u_0(y) g(t, x-y)\\,dy.\n",
    "$$\n",
    "This perspective views $u(t,x)$ as a weighted \"sum\" (integral) of a collection of \"spikes\" of heat. \n",
    "The spike of heat at location $y$ is given by $u_0(y) g(t,x-y)$, which we interpret as being formed by taking the \"standard spike\" $g(t,x)$ and first translating it to location $y$ and then weighting it by the amount of initial heat $u_0(y)$ present at that location.\n",
    "This perspective emphasizes the spatial location of each original piece of heat.\n",
    "The heat at each location evolves more or less the same - the only difference being the size of the pulse.\n",
    "\n",
    "We can compare/contrast the two perspectives as follows.\n",
    "The Fourier series approach emphasizes the varying amount of spatial scales, which we can interpret as emphasizing those regions in frequency space that dominate.\n",
    "In the short term, most of the change occurs in the high-frequency (fine scale) part of frequency space, while in the long term, the only terms that are sizable are in the low-frequency (coarse scale) region.\n",
    "The convolution approach, on the other hand, emphasizes the varying physical location of the heat. From this persective, the dominate region of physical space is simply those places where there is initially the most/least heat."
   ]
  },
  {
   "cell_type": "markdown",
   "metadata": {},
   "source": [
    "## Part 6"
   ]
  },
  {
   "cell_type": "markdown",
   "metadata": {},
   "source": [
    "The instructions:\n",
    ">Choose some \"interesting\" initial shape $u_0$ and construct the Fourier series solution to the heat equation. Make some plots. Make some intelligent remarks. What do you think?\n",
    "\n",
    "As an example, here is how one would analyze the situation where $u_0$ is the square wave."
   ]
  },
  {
   "cell_type": "code",
   "execution_count": 8,
   "metadata": {},
   "outputs": [
    {
     "data": {
      "image/png": "[encoded data removed]",
      "text/plain": [
       "<Figure size 720x360 with 6 Axes>"
      ]
     },
     "metadata": {
      "needs_background": "light"
     },
     "output_type": "display_data"
    }
   ],
   "source": [
    "uL = lambda x: -1\n",
    "uR = lambda x: 1\n",
    "\n",
    "n = 30\n",
    "\n",
    "def ar_integrate(func, a, b, h=0.001):\n",
    "    \"\"\"Approximates integral using trapazoidal method\"\"\"\n",
    "    return h * ((0.5 * (func(a) + func(b))) + sum(\n",
    "        [func(a + k * h) for k in range(1, int((b - a) / h))]))\n",
    "\n",
    "b = lambda k: (1/np.pi)*(integrate.quad(lambda y: np.sin(k*y)*uL(y), -np.pi, 0)[0] +\n",
    "                         integrate.quad(lambda y: np.sin(k*y)*uR(y), 0, np.pi)[0])\n",
    "u = lambda t, x: sum([b(k) * np.sin(k*x)*np.exp(-(k**2)*t) for k in range(1,n)])\n",
    "\n",
    "X = np.linspace(-np.pi, np.pi, 100)\n",
    "\n",
    "f, ax = plt.subplots(2,3)\n",
    "ax[0,0].plot(X, [u(0.001, x) for x in X])\n",
    "ax[0,1].plot(X, [u(0.1,x) for x in X])\n",
    "ax[0,2].plot(X, [u(0.1,x) for x in X])\n",
    "ax[1,0].plot(X, [u(1.0,x) for x in X])\n",
    "ax[1,1].plot(X, [u(2.0,x) for x in X])\n",
    "ax[1,2].plot(X, [u(4.0,x) for x in X])\n",
    "for x in range(3):\n",
    "    for y in range(2):\n",
    "        ax[y,x].set_ylim(-1.2,1.2)\n",
    "plt.show()\n"
   ]
  },
  {
   "cell_type": "markdown",
   "metadata": {},
   "source": [
    "Here are some \"intelligent remarks.\"\n",
    "\n",
    "First, notice how the small-scale structure is the first to smooth out. The sharp jumps rely on using a lot of small scale structure, and that's where the changes occur first. As expected, those sharp features smooth very quickly.\n",
    "\n",
    "Second, the large scale structure takes (relatively) much longer to even out. This also matches our expectation.\n",
    "\n",
    "Finally, the total amount of heat in the initial shape is zero. This continues to be true for all time, and thus the final equilibrium state is $u=0$."
   ]
  },
  {
   "cell_type": "code",
   "execution_count": null,
   "metadata": {},
   "outputs": [],
   "source": []
  }
 ],
 "metadata": {
  "kernelspec": {
   "display_name": "Python 3",
   "language": "python",
   "name": "python3"
  },
  "language_info": {
   "codemirror_mode": {
    "name": "ipython",
    "version": 3
   },
   "file_extension": ".py",
   "mimetype": "text/x-python",
   "name": "python",
   "nbconvert_exporter": "python",
   "pygments_lexer": "ipython3",
   "version": "3.6.5"
  }
 },
 "nbformat": 4,
 "nbformat_minor": 2
}
